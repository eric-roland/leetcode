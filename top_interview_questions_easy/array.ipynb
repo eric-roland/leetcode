{
 "cells": [
  {
   "cell_type": "code",
   "execution_count": null,
   "metadata": {},
   "outputs": [],
   "source": [
    "from typing import List"
   ]
  },
  {
   "cell_type": "code",
   "execution_count": null,
   "metadata": {},
   "outputs": [],
   "source": [
    "class Solution:\n",
    "    def removeDuplicates(self, nums: List[int]) -> int:\n",
    "        list_len = len(nums)\n",
    "        unique_nums = list(set(nums))\n",
    "        unique_len = len(unique_nums)\n",
    "        return len(unique_nums)\n",
    "    \n",
    "solution = Solution()\n",
    "assert solution.removeDuplicates([1,1,2,3,3,5,6,6,7]) == 6"
   ]
  },
  {
   "cell_type": "code",
   "execution_count": null,
   "metadata": {},
   "outputs": [],
   "source": [
    "def remove_duplicates(nums):\n",
    "    if len(nums) == 0:\n",
    "        return 0\n",
    "\n",
    "    k = 0\n",
    "    for i in range(1, len(nums)):\n",
    "        if nums[k] != nums[i]:\n",
    "            k += 1\n",
    "            nums[k] = nums[i]\n",
    "\n",
    "    return k + 1\n",
    "\n",
    "assert remove_duplicates([1,1,2,3,3,5,6,6,7]) == 6"
   ]
  },
  {
   "cell_type": "code",
   "execution_count": null,
   "metadata": {},
   "outputs": [],
   "source": [
    "class Solution:\n",
    "    def maxProfit(self, prices: List[int]) -> int:\n",
    "        prices_len = len(prices)\n",
    "        profits = 0\n",
    "        for i in range(1, prices_len):\n",
    "            profits += max(prices[i]-prices[i-1], 0)\n",
    "        return profits\n",
    "    \n",
    "solution = Solution()\n",
    "assert solution.maxProfit([7,1,5,3,6,4]) == 7\n",
    "assert solution.maxProfit([1,2,3,4,5]) == 4\n",
    "assert solution.maxProfit([1,2,1,3,4,9,9,1,13]) == 21"
   ]
  },
  {
   "cell_type": "code",
   "execution_count": null,
   "metadata": {},
   "outputs": [],
   "source": [
    "class Solution:\n",
    "    def rotate(self, nums: List[int], k: int) -> None:\n",
    "        for i in range(k):\n",
    "            nums.insert(0,nums.pop())\n",
    "        return nums\n",
    "    \n",
    "solution = Solution()\n",
    "assert solution.rotate([1,2,3,4,5,6,7], 8) == [7, 1, 2, 3, 4, 5, 6]\n",
    "assert solution.rotate([1,2,3,4,5,6,7], 3) == [5, 6, 7, 1, 2, 3, 4]\n",
    "assert solution.rotate([-1,-100,3,99], 2) == [3, 99, -1, -100]\n",
    "assert solution.rotate([-1,-100], 3) == [-100, -1]"
   ]
  },
  {
   "cell_type": "code",
   "execution_count": null,
   "metadata": {},
   "outputs": [],
   "source": [
    "class Solution:\n",
    "    def containsDuplicate(self, nums: List[int]) -> bool:\n",
    "        intial_len = len(nums)\n",
    "        unique_len = len(list(set(nums)))\n",
    "        return intial_len > unique_len\n",
    "    \n",
    "solution = Solution()\n",
    "print(solution.containsDuplicate([1,2,3,1]))\n",
    "print(solution.containsDuplicate([1,2,3,4]))"
   ]
  },
  {
   "cell_type": "code",
   "execution_count": null,
   "metadata": {},
   "outputs": [],
   "source": [
    "class Solution:\n",
    "    def singleNumber(self, nums: List[int]) -> int:\n",
    "        seen_numbers = []\n",
    "        duplicate_numbers = []\n",
    "        for num in nums:\n",
    "            if not num in seen_numbers:\n",
    "                seen_numbers.append(num)\n",
    "            else:\n",
    "                duplicate_numbers.append(num)\n",
    "\n",
    "        return (list(set(seen_numbers) - set(duplicate_numbers)))[0]\n",
    "\n",
    "solution = Solution()\n",
    "assert solution.singleNumber([2,2,1]) == 1\n",
    "assert solution.singleNumber([4,1,2,1,2]) == 4"
   ]
  },
  {
   "cell_type": "code",
   "execution_count": null,
   "metadata": {},
   "outputs": [],
   "source": [
    "class Solution:\n",
    "    def intersect(self, nums1: List[int], nums2: List[int]) -> List[int]:\n",
    "        intersections = []\n",
    "        for num in nums1:\n",
    "            if num in nums2:\n",
    "                nums2.remove(num)\n",
    "                intersections.append(num)   \n",
    "        return intersections\n",
    "        \n",
    "        \n",
    "solution = Solution()\n",
    "assert solution.intersect([1,2,2,1], [2,2]) == [2,2]\n",
    "assert solution.intersect([4,9,5], [9,4,9,8,4]) == [4, 9]\n",
    "assert solution.intersect([1,2,2,1], [2]) == [2]"
   ]
  },
  {
   "cell_type": "code",
   "execution_count": null,
   "metadata": {},
   "outputs": [],
   "source": [
    "class Solution:\n",
    "    def plusOne(self, digits: List[int]) -> List[int]:\n",
    "        initial_output = int(''.join(map(str, digits))) + 1\n",
    "        final_output = [int(digit) for digit in str(initial_output)]\n",
    "        return final_output\n",
    "        \n",
    "solution = Solution()\n",
    "assert solution.plusOne([1,2,3]) == [1,2,4]\n",
    "assert solution.plusOne([4,3,2,1]) == [4,3,2,2]\n",
    "assert solution.plusOne([9]) == [1,0]"
   ]
  },
  {
   "cell_type": "code",
   "execution_count": null,
   "metadata": {},
   "outputs": [],
   "source": [
    "class Solution:\n",
    "    def moveZeroes(self, nums: List[int]) -> None:\n",
    "        for num in nums:\n",
    "            if num == 0:\n",
    "                nums.remove(num)\n",
    "                nums.append(num)\n",
    "        \n",
    "        return nums\n",
    "    \n",
    "solution = Solution()\n",
    "assert solution.moveZeroes([0,1,0,3,12]) == [1,3,12,0,0]\n",
    "assert solution.moveZeroes([0]) == [0]"
   ]
  },
  {
   "cell_type": "code",
   "execution_count": null,
   "metadata": {},
   "outputs": [],
   "source": []
  }
 ],
 "metadata": {
  "kernelspec": {
   "display_name": "Python 3",
   "language": "python",
   "name": "python3"
  },
  "language_info": {
   "codemirror_mode": {
    "name": "ipython",
    "version": 3
   },
   "file_extension": ".py",
   "mimetype": "text/x-python",
   "name": "python",
   "nbconvert_exporter": "python",
   "pygments_lexer": "ipython3",
   "version": "3.6.7"
  }
 },
 "nbformat": 4,
 "nbformat_minor": 4
}
